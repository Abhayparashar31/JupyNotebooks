{
 "cells": [
  {
   "cell_type": "markdown",
   "metadata": {},
   "source": [
    "### FIFA 2019 Data Exploration"
   ]
  },
  {
   "cell_type": "markdown",
   "metadata": {},
   "source": [
    "**In  this notebook we are trying to explore the dataset of fifa 2019 world cup.**\n",
    "\n",
    "The dataset is from kaggle. url of the dataset is https://www.kaggle.com/karangadiya/fifa19\n",
    "\n",
    "data.csv includes lastest edition FIFA 2019 players attributes like Age, Nationality, Overall, Potential, Club, Value, Wage, Preferred Foot, International Reputation, Weak Foot, Skill Moves, Work Rate, Position, Jersey Number, Joined, Loaned From, Contract Valid Until, Height, Weight, LS, ST, RS, LW, LF, CF, RF, RW, LAM, CAM, RAM, LM, LCM, CM, RCM, RM, LWB, LDM, CDM, RDM, RWB, LB, LCB, CB, RCB, RB, Crossing, Finishing, Heading, Accuracy, ShortPassing, Volleys, Dribbling, Curve, FKAccuracy, LongPassing, BallControl, Acceleration, SprintSpeed, Agility, Reactions, Balance, ShotPower, Jumping, Stamina, Strength, LongShots, Aggression, Interceptions, Positioning, Vision, Penalties, Composure, Marking, StandingTackle, SlidingTackle, GKDiving, GKHandling, GKKicking, GKPositioning, GKReflexes, and Release Clause.\n",
    "\n",
    "In the dataset there are 89 columns"
   ]
  },
  {
   "cell_type": "markdown",
   "metadata": {},
   "source": [
    "## Importing libraries  "
   ]
  },
  {
   "cell_type": "code",
   "execution_count": 1,
   "metadata": {},
   "outputs": [],
   "source": [
    "import numpy as np\n",
    "import pandas as pd\n",
    "import matplotlib.pyplot as plt"
   ]
  },
  {
   "cell_type": "markdown",
   "metadata": {},
   "source": [
    "## Loading the dataset (exits in the same location as the notebook)"
   ]
  },
  {
   "cell_type": "code",
   "execution_count": 2,
   "metadata": {},
   "outputs": [],
   "source": [
    "df = pd.read_csv(\"data.csv\",index_col=0)"
   ]
  },
  {
   "cell_type": "markdown",
   "metadata": {},
   "source": [
    "## EDA "
   ]
  },
  {
   "cell_type": "code",
   "execution_count": 3,
   "metadata": {},
   "outputs": [
    {
     "data": {
      "text/html": [
       "<div>\n",
       "<style scoped>\n",
       "    .dataframe tbody tr th:only-of-type {\n",
       "        vertical-align: middle;\n",
       "    }\n",
       "\n",
       "    .dataframe tbody tr th {\n",
       "        vertical-align: top;\n",
       "    }\n",
       "\n",
       "    .dataframe thead th {\n",
       "        text-align: right;\n",
       "    }\n",
       "</style>\n",
       "<table border=\"1\" class=\"dataframe\">\n",
       "  <thead>\n",
       "    <tr style=\"text-align: right;\">\n",
       "      <th></th>\n",
       "      <th>ID</th>\n",
       "      <th>Name</th>\n",
       "      <th>Age</th>\n",
       "      <th>Photo</th>\n",
       "      <th>Nationality</th>\n",
       "      <th>Flag</th>\n",
       "      <th>Overall</th>\n",
       "      <th>Potential</th>\n",
       "      <th>Club</th>\n",
       "      <th>Club Logo</th>\n",
       "      <th>...</th>\n",
       "      <th>Composure</th>\n",
       "      <th>Marking</th>\n",
       "      <th>StandingTackle</th>\n",
       "      <th>SlidingTackle</th>\n",
       "      <th>GKDiving</th>\n",
       "      <th>GKHandling</th>\n",
       "      <th>GKKicking</th>\n",
       "      <th>GKPositioning</th>\n",
       "      <th>GKReflexes</th>\n",
       "      <th>Release Clause</th>\n",
       "    </tr>\n",
       "  </thead>\n",
       "  <tbody>\n",
       "    <tr>\n",
       "      <th>0</th>\n",
       "      <td>158023</td>\n",
       "      <td>L. Messi</td>\n",
       "      <td>31</td>\n",
       "      <td>https://cdn.sofifa.org/players/4/19/158023.png</td>\n",
       "      <td>Argentina</td>\n",
       "      <td>https://cdn.sofifa.org/flags/52.png</td>\n",
       "      <td>94</td>\n",
       "      <td>94</td>\n",
       "      <td>FC Barcelona</td>\n",
       "      <td>https://cdn.sofifa.org/teams/2/light/241.png</td>\n",
       "      <td>...</td>\n",
       "      <td>96.0</td>\n",
       "      <td>33.0</td>\n",
       "      <td>28.0</td>\n",
       "      <td>26.0</td>\n",
       "      <td>6.0</td>\n",
       "      <td>11.0</td>\n",
       "      <td>15.0</td>\n",
       "      <td>14.0</td>\n",
       "      <td>8.0</td>\n",
       "      <td>€226.5M</td>\n",
       "    </tr>\n",
       "    <tr>\n",
       "      <th>1</th>\n",
       "      <td>20801</td>\n",
       "      <td>Cristiano Ronaldo</td>\n",
       "      <td>33</td>\n",
       "      <td>https://cdn.sofifa.org/players/4/19/20801.png</td>\n",
       "      <td>Portugal</td>\n",
       "      <td>https://cdn.sofifa.org/flags/38.png</td>\n",
       "      <td>94</td>\n",
       "      <td>94</td>\n",
       "      <td>Juventus</td>\n",
       "      <td>https://cdn.sofifa.org/teams/2/light/45.png</td>\n",
       "      <td>...</td>\n",
       "      <td>95.0</td>\n",
       "      <td>28.0</td>\n",
       "      <td>31.0</td>\n",
       "      <td>23.0</td>\n",
       "      <td>7.0</td>\n",
       "      <td>11.0</td>\n",
       "      <td>15.0</td>\n",
       "      <td>14.0</td>\n",
       "      <td>11.0</td>\n",
       "      <td>€127.1M</td>\n",
       "    </tr>\n",
       "    <tr>\n",
       "      <th>2</th>\n",
       "      <td>190871</td>\n",
       "      <td>Neymar Jr</td>\n",
       "      <td>26</td>\n",
       "      <td>https://cdn.sofifa.org/players/4/19/190871.png</td>\n",
       "      <td>Brazil</td>\n",
       "      <td>https://cdn.sofifa.org/flags/54.png</td>\n",
       "      <td>92</td>\n",
       "      <td>93</td>\n",
       "      <td>Paris Saint-Germain</td>\n",
       "      <td>https://cdn.sofifa.org/teams/2/light/73.png</td>\n",
       "      <td>...</td>\n",
       "      <td>94.0</td>\n",
       "      <td>27.0</td>\n",
       "      <td>24.0</td>\n",
       "      <td>33.0</td>\n",
       "      <td>9.0</td>\n",
       "      <td>9.0</td>\n",
       "      <td>15.0</td>\n",
       "      <td>15.0</td>\n",
       "      <td>11.0</td>\n",
       "      <td>€228.1M</td>\n",
       "    </tr>\n",
       "    <tr>\n",
       "      <th>3</th>\n",
       "      <td>193080</td>\n",
       "      <td>De Gea</td>\n",
       "      <td>27</td>\n",
       "      <td>https://cdn.sofifa.org/players/4/19/193080.png</td>\n",
       "      <td>Spain</td>\n",
       "      <td>https://cdn.sofifa.org/flags/45.png</td>\n",
       "      <td>91</td>\n",
       "      <td>93</td>\n",
       "      <td>Manchester United</td>\n",
       "      <td>https://cdn.sofifa.org/teams/2/light/11.png</td>\n",
       "      <td>...</td>\n",
       "      <td>68.0</td>\n",
       "      <td>15.0</td>\n",
       "      <td>21.0</td>\n",
       "      <td>13.0</td>\n",
       "      <td>90.0</td>\n",
       "      <td>85.0</td>\n",
       "      <td>87.0</td>\n",
       "      <td>88.0</td>\n",
       "      <td>94.0</td>\n",
       "      <td>€138.6M</td>\n",
       "    </tr>\n",
       "    <tr>\n",
       "      <th>4</th>\n",
       "      <td>192985</td>\n",
       "      <td>K. De Bruyne</td>\n",
       "      <td>27</td>\n",
       "      <td>https://cdn.sofifa.org/players/4/19/192985.png</td>\n",
       "      <td>Belgium</td>\n",
       "      <td>https://cdn.sofifa.org/flags/7.png</td>\n",
       "      <td>91</td>\n",
       "      <td>92</td>\n",
       "      <td>Manchester City</td>\n",
       "      <td>https://cdn.sofifa.org/teams/2/light/10.png</td>\n",
       "      <td>...</td>\n",
       "      <td>88.0</td>\n",
       "      <td>68.0</td>\n",
       "      <td>58.0</td>\n",
       "      <td>51.0</td>\n",
       "      <td>15.0</td>\n",
       "      <td>13.0</td>\n",
       "      <td>5.0</td>\n",
       "      <td>10.0</td>\n",
       "      <td>13.0</td>\n",
       "      <td>€196.4M</td>\n",
       "    </tr>\n",
       "  </tbody>\n",
       "</table>\n",
       "<p>5 rows × 88 columns</p>\n",
       "</div>"
      ],
      "text/plain": [
       "       ID               Name  Age  \\\n",
       "0  158023           L. Messi   31   \n",
       "1   20801  Cristiano Ronaldo   33   \n",
       "2  190871          Neymar Jr   26   \n",
       "3  193080             De Gea   27   \n",
       "4  192985       K. De Bruyne   27   \n",
       "\n",
       "                                            Photo Nationality  \\\n",
       "0  https://cdn.sofifa.org/players/4/19/158023.png   Argentina   \n",
       "1   https://cdn.sofifa.org/players/4/19/20801.png    Portugal   \n",
       "2  https://cdn.sofifa.org/players/4/19/190871.png      Brazil   \n",
       "3  https://cdn.sofifa.org/players/4/19/193080.png       Spain   \n",
       "4  https://cdn.sofifa.org/players/4/19/192985.png     Belgium   \n",
       "\n",
       "                                  Flag  Overall  Potential  \\\n",
       "0  https://cdn.sofifa.org/flags/52.png       94         94   \n",
       "1  https://cdn.sofifa.org/flags/38.png       94         94   \n",
       "2  https://cdn.sofifa.org/flags/54.png       92         93   \n",
       "3  https://cdn.sofifa.org/flags/45.png       91         93   \n",
       "4   https://cdn.sofifa.org/flags/7.png       91         92   \n",
       "\n",
       "                  Club                                     Club Logo  ...  \\\n",
       "0         FC Barcelona  https://cdn.sofifa.org/teams/2/light/241.png  ...   \n",
       "1             Juventus   https://cdn.sofifa.org/teams/2/light/45.png  ...   \n",
       "2  Paris Saint-Germain   https://cdn.sofifa.org/teams/2/light/73.png  ...   \n",
       "3    Manchester United   https://cdn.sofifa.org/teams/2/light/11.png  ...   \n",
       "4      Manchester City   https://cdn.sofifa.org/teams/2/light/10.png  ...   \n",
       "\n",
       "  Composure Marking  StandingTackle SlidingTackle  GKDiving  GKHandling  \\\n",
       "0      96.0    33.0            28.0          26.0       6.0        11.0   \n",
       "1      95.0    28.0            31.0          23.0       7.0        11.0   \n",
       "2      94.0    27.0            24.0          33.0       9.0         9.0   \n",
       "3      68.0    15.0            21.0          13.0      90.0        85.0   \n",
       "4      88.0    68.0            58.0          51.0      15.0        13.0   \n",
       "\n",
       "   GKKicking GKPositioning GKReflexes Release Clause  \n",
       "0       15.0          14.0        8.0        €226.5M  \n",
       "1       15.0          14.0       11.0        €127.1M  \n",
       "2       15.0          15.0       11.0        €228.1M  \n",
       "3       87.0          88.0       94.0        €138.6M  \n",
       "4        5.0          10.0       13.0        €196.4M  \n",
       "\n",
       "[5 rows x 88 columns]"
      ]
     },
     "execution_count": 3,
     "metadata": {},
     "output_type": "execute_result"
    }
   ],
   "source": [
    "df.head()"
   ]
  },
  {
   "cell_type": "code",
   "execution_count": 4,
   "metadata": {},
   "outputs": [
    {
     "data": {
      "text/html": [
       "<div>\n",
       "<style scoped>\n",
       "    .dataframe tbody tr th:only-of-type {\n",
       "        vertical-align: middle;\n",
       "    }\n",
       "\n",
       "    .dataframe tbody tr th {\n",
       "        vertical-align: top;\n",
       "    }\n",
       "\n",
       "    .dataframe thead th {\n",
       "        text-align: right;\n",
       "    }\n",
       "</style>\n",
       "<table border=\"1\" class=\"dataframe\">\n",
       "  <thead>\n",
       "    <tr style=\"text-align: right;\">\n",
       "      <th></th>\n",
       "      <th>ID</th>\n",
       "      <th>Age</th>\n",
       "      <th>Overall</th>\n",
       "      <th>Potential</th>\n",
       "      <th>Special</th>\n",
       "      <th>International Reputation</th>\n",
       "      <th>Weak Foot</th>\n",
       "      <th>Skill Moves</th>\n",
       "      <th>Jersey Number</th>\n",
       "      <th>Crossing</th>\n",
       "      <th>...</th>\n",
       "      <th>Penalties</th>\n",
       "      <th>Composure</th>\n",
       "      <th>Marking</th>\n",
       "      <th>StandingTackle</th>\n",
       "      <th>SlidingTackle</th>\n",
       "      <th>GKDiving</th>\n",
       "      <th>GKHandling</th>\n",
       "      <th>GKKicking</th>\n",
       "      <th>GKPositioning</th>\n",
       "      <th>GKReflexes</th>\n",
       "    </tr>\n",
       "  </thead>\n",
       "  <tbody>\n",
       "    <tr>\n",
       "      <th>count</th>\n",
       "      <td>18207.000000</td>\n",
       "      <td>18207.000000</td>\n",
       "      <td>18207.000000</td>\n",
       "      <td>18207.000000</td>\n",
       "      <td>18207.000000</td>\n",
       "      <td>18159.000000</td>\n",
       "      <td>18159.000000</td>\n",
       "      <td>18159.000000</td>\n",
       "      <td>18147.000000</td>\n",
       "      <td>18159.000000</td>\n",
       "      <td>...</td>\n",
       "      <td>18159.000000</td>\n",
       "      <td>18159.000000</td>\n",
       "      <td>18159.000000</td>\n",
       "      <td>18159.000000</td>\n",
       "      <td>18159.000000</td>\n",
       "      <td>18159.000000</td>\n",
       "      <td>18159.000000</td>\n",
       "      <td>18159.000000</td>\n",
       "      <td>18159.000000</td>\n",
       "      <td>18159.000000</td>\n",
       "    </tr>\n",
       "    <tr>\n",
       "      <th>mean</th>\n",
       "      <td>214298.338606</td>\n",
       "      <td>25.122206</td>\n",
       "      <td>66.238699</td>\n",
       "      <td>71.307299</td>\n",
       "      <td>1597.809908</td>\n",
       "      <td>1.113222</td>\n",
       "      <td>2.947299</td>\n",
       "      <td>2.361308</td>\n",
       "      <td>19.546096</td>\n",
       "      <td>49.734181</td>\n",
       "      <td>...</td>\n",
       "      <td>48.548598</td>\n",
       "      <td>58.648274</td>\n",
       "      <td>47.281623</td>\n",
       "      <td>47.697836</td>\n",
       "      <td>45.661435</td>\n",
       "      <td>16.616223</td>\n",
       "      <td>16.391596</td>\n",
       "      <td>16.232061</td>\n",
       "      <td>16.388898</td>\n",
       "      <td>16.710887</td>\n",
       "    </tr>\n",
       "    <tr>\n",
       "      <th>std</th>\n",
       "      <td>29965.244204</td>\n",
       "      <td>4.669943</td>\n",
       "      <td>6.908930</td>\n",
       "      <td>6.136496</td>\n",
       "      <td>272.586016</td>\n",
       "      <td>0.394031</td>\n",
       "      <td>0.660456</td>\n",
       "      <td>0.756164</td>\n",
       "      <td>15.947765</td>\n",
       "      <td>18.364524</td>\n",
       "      <td>...</td>\n",
       "      <td>15.704053</td>\n",
       "      <td>11.436133</td>\n",
       "      <td>19.904397</td>\n",
       "      <td>21.664004</td>\n",
       "      <td>21.289135</td>\n",
       "      <td>17.695349</td>\n",
       "      <td>16.906900</td>\n",
       "      <td>16.502864</td>\n",
       "      <td>17.034669</td>\n",
       "      <td>17.955119</td>\n",
       "    </tr>\n",
       "    <tr>\n",
       "      <th>min</th>\n",
       "      <td>16.000000</td>\n",
       "      <td>16.000000</td>\n",
       "      <td>46.000000</td>\n",
       "      <td>48.000000</td>\n",
       "      <td>731.000000</td>\n",
       "      <td>1.000000</td>\n",
       "      <td>1.000000</td>\n",
       "      <td>1.000000</td>\n",
       "      <td>1.000000</td>\n",
       "      <td>5.000000</td>\n",
       "      <td>...</td>\n",
       "      <td>5.000000</td>\n",
       "      <td>3.000000</td>\n",
       "      <td>3.000000</td>\n",
       "      <td>2.000000</td>\n",
       "      <td>3.000000</td>\n",
       "      <td>1.000000</td>\n",
       "      <td>1.000000</td>\n",
       "      <td>1.000000</td>\n",
       "      <td>1.000000</td>\n",
       "      <td>1.000000</td>\n",
       "    </tr>\n",
       "    <tr>\n",
       "      <th>25%</th>\n",
       "      <td>200315.500000</td>\n",
       "      <td>21.000000</td>\n",
       "      <td>62.000000</td>\n",
       "      <td>67.000000</td>\n",
       "      <td>1457.000000</td>\n",
       "      <td>1.000000</td>\n",
       "      <td>3.000000</td>\n",
       "      <td>2.000000</td>\n",
       "      <td>8.000000</td>\n",
       "      <td>38.000000</td>\n",
       "      <td>...</td>\n",
       "      <td>39.000000</td>\n",
       "      <td>51.000000</td>\n",
       "      <td>30.000000</td>\n",
       "      <td>27.000000</td>\n",
       "      <td>24.000000</td>\n",
       "      <td>8.000000</td>\n",
       "      <td>8.000000</td>\n",
       "      <td>8.000000</td>\n",
       "      <td>8.000000</td>\n",
       "      <td>8.000000</td>\n",
       "    </tr>\n",
       "    <tr>\n",
       "      <th>50%</th>\n",
       "      <td>221759.000000</td>\n",
       "      <td>25.000000</td>\n",
       "      <td>66.000000</td>\n",
       "      <td>71.000000</td>\n",
       "      <td>1635.000000</td>\n",
       "      <td>1.000000</td>\n",
       "      <td>3.000000</td>\n",
       "      <td>2.000000</td>\n",
       "      <td>17.000000</td>\n",
       "      <td>54.000000</td>\n",
       "      <td>...</td>\n",
       "      <td>49.000000</td>\n",
       "      <td>60.000000</td>\n",
       "      <td>53.000000</td>\n",
       "      <td>55.000000</td>\n",
       "      <td>52.000000</td>\n",
       "      <td>11.000000</td>\n",
       "      <td>11.000000</td>\n",
       "      <td>11.000000</td>\n",
       "      <td>11.000000</td>\n",
       "      <td>11.000000</td>\n",
       "    </tr>\n",
       "    <tr>\n",
       "      <th>75%</th>\n",
       "      <td>236529.500000</td>\n",
       "      <td>28.000000</td>\n",
       "      <td>71.000000</td>\n",
       "      <td>75.000000</td>\n",
       "      <td>1787.000000</td>\n",
       "      <td>1.000000</td>\n",
       "      <td>3.000000</td>\n",
       "      <td>3.000000</td>\n",
       "      <td>26.000000</td>\n",
       "      <td>64.000000</td>\n",
       "      <td>...</td>\n",
       "      <td>60.000000</td>\n",
       "      <td>67.000000</td>\n",
       "      <td>64.000000</td>\n",
       "      <td>66.000000</td>\n",
       "      <td>64.000000</td>\n",
       "      <td>14.000000</td>\n",
       "      <td>14.000000</td>\n",
       "      <td>14.000000</td>\n",
       "      <td>14.000000</td>\n",
       "      <td>14.000000</td>\n",
       "    </tr>\n",
       "    <tr>\n",
       "      <th>max</th>\n",
       "      <td>246620.000000</td>\n",
       "      <td>45.000000</td>\n",
       "      <td>94.000000</td>\n",
       "      <td>95.000000</td>\n",
       "      <td>2346.000000</td>\n",
       "      <td>5.000000</td>\n",
       "      <td>5.000000</td>\n",
       "      <td>5.000000</td>\n",
       "      <td>99.000000</td>\n",
       "      <td>93.000000</td>\n",
       "      <td>...</td>\n",
       "      <td>92.000000</td>\n",
       "      <td>96.000000</td>\n",
       "      <td>94.000000</td>\n",
       "      <td>93.000000</td>\n",
       "      <td>91.000000</td>\n",
       "      <td>90.000000</td>\n",
       "      <td>92.000000</td>\n",
       "      <td>91.000000</td>\n",
       "      <td>90.000000</td>\n",
       "      <td>94.000000</td>\n",
       "    </tr>\n",
       "  </tbody>\n",
       "</table>\n",
       "<p>8 rows × 43 columns</p>\n",
       "</div>"
      ],
      "text/plain": [
       "                  ID           Age       Overall     Potential       Special  \\\n",
       "count   18207.000000  18207.000000  18207.000000  18207.000000  18207.000000   \n",
       "mean   214298.338606     25.122206     66.238699     71.307299   1597.809908   \n",
       "std     29965.244204      4.669943      6.908930      6.136496    272.586016   \n",
       "min        16.000000     16.000000     46.000000     48.000000    731.000000   \n",
       "25%    200315.500000     21.000000     62.000000     67.000000   1457.000000   \n",
       "50%    221759.000000     25.000000     66.000000     71.000000   1635.000000   \n",
       "75%    236529.500000     28.000000     71.000000     75.000000   1787.000000   \n",
       "max    246620.000000     45.000000     94.000000     95.000000   2346.000000   \n",
       "\n",
       "       International Reputation     Weak Foot   Skill Moves  Jersey Number  \\\n",
       "count              18159.000000  18159.000000  18159.000000   18147.000000   \n",
       "mean                   1.113222      2.947299      2.361308      19.546096   \n",
       "std                    0.394031      0.660456      0.756164      15.947765   \n",
       "min                    1.000000      1.000000      1.000000       1.000000   \n",
       "25%                    1.000000      3.000000      2.000000       8.000000   \n",
       "50%                    1.000000      3.000000      2.000000      17.000000   \n",
       "75%                    1.000000      3.000000      3.000000      26.000000   \n",
       "max                    5.000000      5.000000      5.000000      99.000000   \n",
       "\n",
       "           Crossing  ...     Penalties     Composure       Marking  \\\n",
       "count  18159.000000  ...  18159.000000  18159.000000  18159.000000   \n",
       "mean      49.734181  ...     48.548598     58.648274     47.281623   \n",
       "std       18.364524  ...     15.704053     11.436133     19.904397   \n",
       "min        5.000000  ...      5.000000      3.000000      3.000000   \n",
       "25%       38.000000  ...     39.000000     51.000000     30.000000   \n",
       "50%       54.000000  ...     49.000000     60.000000     53.000000   \n",
       "75%       64.000000  ...     60.000000     67.000000     64.000000   \n",
       "max       93.000000  ...     92.000000     96.000000     94.000000   \n",
       "\n",
       "       StandingTackle  SlidingTackle      GKDiving    GKHandling  \\\n",
       "count    18159.000000   18159.000000  18159.000000  18159.000000   \n",
       "mean        47.697836      45.661435     16.616223     16.391596   \n",
       "std         21.664004      21.289135     17.695349     16.906900   \n",
       "min          2.000000       3.000000      1.000000      1.000000   \n",
       "25%         27.000000      24.000000      8.000000      8.000000   \n",
       "50%         55.000000      52.000000     11.000000     11.000000   \n",
       "75%         66.000000      64.000000     14.000000     14.000000   \n",
       "max         93.000000      91.000000     90.000000     92.000000   \n",
       "\n",
       "          GKKicking  GKPositioning    GKReflexes  \n",
       "count  18159.000000   18159.000000  18159.000000  \n",
       "mean      16.232061      16.388898     16.710887  \n",
       "std       16.502864      17.034669     17.955119  \n",
       "min        1.000000       1.000000      1.000000  \n",
       "25%        8.000000       8.000000      8.000000  \n",
       "50%       11.000000      11.000000     11.000000  \n",
       "75%       14.000000      14.000000     14.000000  \n",
       "max       91.000000      90.000000     94.000000  \n",
       "\n",
       "[8 rows x 43 columns]"
      ]
     },
     "execution_count": 4,
     "metadata": {},
     "output_type": "execute_result"
    }
   ],
   "source": [
    "df.describe()"
   ]
  },
  {
   "cell_type": "code",
   "execution_count": 5,
   "metadata": {},
   "outputs": [
    {
     "name": "stdout",
     "output_type": "stream",
     "text": [
      "Number of rows in the datset are 18207 and columns 88\n"
     ]
    }
   ],
   "source": [
    "print(f\"Number of rows in the datset are {df.shape[0]} and columns {df.shape[1]}\")"
   ]
  },
  {
   "cell_type": "code",
   "execution_count": 6,
   "metadata": {},
   "outputs": [
    {
     "name": "stdout",
     "output_type": "stream",
     "text": [
      "Total number of players present in the dataset : 17194\n"
     ]
    }
   ],
   "source": [
    "print(\"Total number of players present in the dataset :\",df[\"Name\"].nunique())"
   ]
  },
  {
   "cell_type": "markdown",
   "metadata": {},
   "source": [
    "## Data Visulization"
   ]
  },
  {
   "cell_type": "code",
   "execution_count": 7,
   "metadata": {},
   "outputs": [
    {
     "data": {
      "image/png": "[encoded data removed]",
      "text/plain": [
       "<Figure size 432x288 with 1 Axes>"
      ]
     },
     "metadata": {
      "needs_background": "light"
     },
     "output_type": "display_data"
    }
   ],
   "source": [
    "plt.hist(df.Age,color=\"#9d03fc\")\n",
    "plt.title(\"Age Distribution in the dataset\",color=\"#9d03fc\")\n",
    "plt.xlabel(\"Age(In Years)\",color=\"red\")\n",
    "plt.show()"
   ]
  },
  {
   "cell_type": "code",
   "execution_count": 8,
   "metadata": {},
   "outputs": [
    {
     "data": {
      "image/png": "[encoded data removed]",
      "text/plain": [
       "<Figure size 750x450 with 1 Axes>"
      ]
     },
     "metadata": {},
     "output_type": "display_data"
    }
   ],
   "source": [
    "plt.style.use('seaborn')\n",
    "plt.figure(figsize=(5,3),dpi=150)\n",
    "over_90 = df.loc[df.Overall > 90].count()[0]\n",
    "btw_80_90 = df.loc[(df.Overall <90) & (df.Overall >=80)].count()[0]\n",
    "btw_65_80 = df.loc[(df.Overall <80) & (df.Overall >=65)].count()[0]\n",
    "less_65 = df.loc[df.Overall < 60].count()[0]\n",
    "rating = [over_90,btw_80_90,btw_65_80,less_65]\n",
    "labels = ['over 90','btw 80 to 90','btw 65 to 80','less than 65']\n",
    "explode = (.5,.2,.1,.1)\n",
    "plt.pie(rating,labels=labels,autopct='%.2f %%',explode=explode)\n",
    "plt.title(\"Rating Distribution of FIFA players\",color=\"#ff0071\")\n",
    "plt.show()"
   ]
  },
  {
   "cell_type": "code",
   "execution_count": 9,
   "metadata": {},
   "outputs": [
    {
     "data": {
      "image/png": "[encoded data removed]",
      "text/plain": [
       "<Figure size 576x396 with 1 Axes>"
      ]
     },
     "metadata": {},
     "output_type": "display_data"
    }
   ],
   "source": [
    "data = df.copy()\n",
    "plt.style.use('seaborn')\n",
    "data.Weight = [int(x.strip('lbs')) if type(x)==str else x   for x in data.Weight  ]\n",
    "plt.style.use('ggplot')\n",
    "light = data.loc[data.Weight<125].count()[0]\n",
    "medium =data.loc[(data.Weight>=125) &(data.Weight<150)].count()[0]\n",
    "heavy =  data.loc[data.Weight>150].count()[0]\n",
    "labels = ['light',\"medium\",\"heavy\"]\n",
    "weight = [light,medium,heavy]\n",
    "explode = (.4,.2,.1)\n",
    "plt.pie(weight,labels = labels,autopct='%.2f %%',explode=explode)\n",
    "plt.title(\"Weight Distribution of FIFA players\")\n",
    "plt.show()"
   ]
  },
  {
   "cell_type": "code",
   "execution_count": 10,
   "metadata": {},
   "outputs": [
    {
     "data": {
      "image/png": "[encoded data removed]",
      "text/plain": [
       "<Figure size 576x396 with 1 Axes>"
      ]
     },
     "metadata": {},
     "output_type": "display_data"
    }
   ],
   "source": [
    "plt.style.use('fivethirtyeight')\n",
    "left = np.array(data[(data[\"Preferred Foot\"]==\"Left\")][\"Preferred Foot\"].value_counts())\n",
    "## left = data.loc[data[\"Preferred Foot\"]==\"Left\"].count()[0]\n",
    "right = np.array(data[(data[\"Preferred Foot\"]==\"Right\")][\"Preferred Foot\"].value_counts())\n",
    "labels = ['Left Foot',\"Right Foot\"]\n",
    "plt.pie([left[0],right[0]],labels = labels,autopct='%.2f %%')\n",
    "plt.title(\"Foor Preference of FIFA players\")\n",
    "plt.show()"
   ]
  },
  {
   "cell_type": "code",
   "execution_count": 11,
   "metadata": {},
   "outputs": [],
   "source": [
    "wage = []\n",
    "for i in df.Wage:\n",
    "    wage.append(int(i.strip(\"€K\"))*1000)"
   ]
  },
  {
   "cell_type": "code",
   "execution_count": 12,
   "metadata": {},
   "outputs": [
    {
     "name": "stdout",
     "output_type": "stream",
     "text": [
      "L. Messi is the player with highest wage with 565000\n"
     ]
    }
   ],
   "source": [
    "df.Wage = wage\n",
    "player_wage_over_500000 = df[df.Wage > 500000]\n",
    "player_wage_over_500000 = [player_wage_over_500000[\"Name\"],player_wage_over_500000[\"Wage\"]]\n",
    "print(f'{player_wage_over_500000[0][0]} is the player with highest wage with {player_wage_over_500000[1][0]}')\n"
   ]
  },
  {
   "cell_type": "code",
   "execution_count": 25,
   "metadata": {},
   "outputs": [
    {
     "data": {
      "image/png": "[encoded data removed]",
      "text/plain": [
       "<Figure size 1008x576 with 1 Axes>"
      ]
     },
     "metadata": {},
     "output_type": "display_data"
    }
   ],
   "source": [
    "data = df.Wage.sort_values(ascending=False)[:10]\n",
    "plt.figure(figsize=(14,8))\n",
    "names = []\n",
    "wage = []\n",
    "for i in data:\n",
    "    names.append(df.loc[df.Wage==i].Name.values)\n",
    "    wage.append(df.loc[df.Wage==i].Wage.values)\n",
    "names = np.array([names,wage])\n",
    "for i in range(len(names[0])):\n",
    "    for j in range(len(names[0][i])):\n",
    "        plt.bar(names[0][i][j],names[1][i][j])\n",
    "plt.title(\"Top 10 players with highest Wage\")\n",
    "plt.ylabel(\"Wage\")\n",
    "plt.xlabel(\"Players\")\n",
    "plt.show()\n"
   ]
  },
  {
   "cell_type": "code",
   "execution_count": null,
   "metadata": {},
   "outputs": [],
   "source": []
  },
  {
   "cell_type": "code",
   "execution_count": null,
   "metadata": {},
   "outputs": [],
   "source": []
  }
 ],
 "metadata": {
  "kernelspec": {
   "display_name": "Python 3",
   "language": "python",
   "name": "python3"
  },
  "language_info": {
   "codemirror_mode": {
    "name": "ipython",
    "version": 3
   },
   "file_extension": ".py",
   "mimetype": "text/x-python",
   "name": "python",
   "nbconvert_exporter": "python",
   "pygments_lexer": "ipython3",
   "version": "3.7.3"
  }
 },
 "nbformat": 4,
 "nbformat_minor": 2
}
